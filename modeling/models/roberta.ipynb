{
 "cells": [
  {
   "cell_type": "markdown",
   "id": "1a4ef837-eee1-467a-a49a-3c45d4dabb74",
   "metadata": {
    "tags": []
   },
   "source": [
    "# Multilabel Classification Model RoBERTa"
   ]
  },
  {
   "cell_type": "markdown",
   "id": "70a900ec-70de-4f6a-80bc-08dc5f772a32",
   "metadata": {},
   "source": [
    "Install necessary packages (should be performed once)"
   ]
  },
  {
   "cell_type": "code",
   "execution_count": null,
   "id": "ac6ef753-ef4a-4e56-a1f7-664dc6657944",
   "metadata": {},
   "outputs": [],
   "source": [
    "#!pip install simpletransformers\n",
    "#!pip install transformers\n",
    "#!pip install seqeval\n",
    "#!pip install tensorboardx\n",
    "#!pip install torch"
   ]
  },
  {
   "cell_type": "markdown",
   "id": "6c2e78e1-1a1f-4fd9-bf39-01d900b4b1f3",
   "metadata": {},
   "source": [
    "\n",
    "\n",
    "Import functions and packages, necessary for model"
   ]
  },
  {
   "cell_type": "code",
   "execution_count": null,
   "id": "c9d25105-0e93-467c-bd4d-c77355900cb5",
   "metadata": {},
   "outputs": [],
   "source": [
    "import logging\n",
    "import pandas as pd\n",
    "import numpy as np\n",
    "from sklearn.model_selection import train_test_split\n",
    "import torch\n",
    "from sklearn.metrics import roc_auc_score"
   ]
  },
  {
   "cell_type": "code",
   "execution_count": null,
   "id": "cfb3e783-b7af-439f-8c14-03914edafc78",
   "metadata": {},
   "outputs": [],
   "source": [
    "logging.basicConfig(level=logging.INFO)\n",
    "transformers_logger = logging.getLogger(\"transformers\")\n",
    "transformers_logger.setLevel(logging.WARNING)"
   ]
  },
  {
   "cell_type": "code",
   "execution_count": null,
   "id": "0ca13ea2-d29a-4f98-9231-78315f10bf86",
   "metadata": {},
   "outputs": [],
   "source": [
    "from simpletransformers.classification import (\n",
    "    MultiLabelClassificationModel, MultiLabelClassificationArgs\n",
    ")"
   ]
  },
  {
   "cell_type": "markdown",
   "id": "b21a9018-aea9-44da-a001-0e3231384c6e",
   "metadata": {},
   "source": [
    "\n",
    "### Data preparation for model\n",
    "\n",
    "For the model dataframe should have 2 columns:\n",
    "  * 'labels' - with all classes of labels\n",
    "  * 'text' - with text of comments (please, provide here necessary column from train dataset with stop-words or without, with noise or without etc.\n",
    "\n",
    "\n",
    "\n"
   ]
  },
  {
   "cell_type": "code",
   "execution_count": null,
   "id": "93bc350b-def1-4fa4-ae0f-76d453abb658",
   "metadata": {},
   "outputs": [],
   "source": [
    "\n",
    "df = pd.read_csv(\"data/df_cleaned.csv\")\n",
    "df['labels'] = list(zip(df.toxic.tolist(), df.severe_toxic.tolist(), df.obscene.tolist(), df.threat.tolist(),  df.insult.tolist(), df.identity_hate.tolist()))\n",
    "df['text'] = df['clean_comments_without_stop_w']"
   ]
  },
  {
   "cell_type": "markdown",
   "id": "26c7cd72-f342-455a-93fe-492f45bfaf36",
   "metadata": {},
   "source": [
    "### Data split into train and eval datasets\n"
   ]
  },
  {
   "cell_type": "code",
   "execution_count": null,
   "id": "b5762761-f181-4e8e-a532-22187c330c02",
   "metadata": {},
   "outputs": [],
   "source": [
    "train_df, eval_df = train_test_split(df, random_state = 0, test_size=0.2)"
   ]
  },
  {
   "cell_type": "markdown",
   "id": "0567c876-b678-4c64-9c25-9ea4803e2840",
   "metadata": {},
   "source": [
    "## Model\n",
    "\n",
    "### Definition of model arguments:\n",
    "   * \"output_dir\" (optional): The directory where model files will be saved. If not given self.args['output_dir'] will be used.\n",
    "   * \"cache_dir\" (optional): The directory where The directory where cached files will be saved. If not given, self.args['cache_dir'] will be used.\n"
   ]
  },
  {
   "cell_type": "code",
   "execution_count": null,
   "id": "110190c6-14a6-471e-9b8f-ab2285cd8f23",
   "metadata": {},
   "outputs": [],
   "source": [
    "\n",
    "sargs = {\n",
    "    \"output_dir\": \"outputs_full_new/\",\n",
    "    \"cache_dir\": \"cache_dir_full_new/\",\n",
    "    'train_batch_size':2, \n",
    "    'gradient_accumulation_steps':16, \n",
    "    'learning_rate': 3e-5, \n",
    "    'num_train_epochs': 3, \n",
    "    'max_seq_length': 128\n",
    "    }"
   ]
  },
  {
   "cell_type": "markdown",
   "id": "18e97ddd-9aad-40c2-97ab-2a2eaa8a736f",
   "metadata": {},
   "source": [
    "### Model initialization with necessary parameters\n",
    "\n",
    "When we train model for the first time,  we used pretrained model from the library 'roberta-base'\n",
    "* num_labels=6, because we have multilabel classification\n",
    "* use_cuda=False - always, when don't use GPU for processing\n"
   ]
  },
  {
   "cell_type": "code",
   "execution_count": null,
   "id": "9b524040-ce12-4586-9a2f-7dba3f6dc829",
   "metadata": {},
   "outputs": [],
   "source": [
    "model = MultiLabelClassificationModel('roberta', 'roberta-base', \n",
    "                                      num_labels=6, args=sargs,\n",
    "                                      use_cuda=False\n",
    "                                      )"
   ]
  },
  {
   "cell_type": "markdown",
   "id": "b9ea30c1-97db-428d-b75d-845b184f5817",
   "metadata": {},
   "source": [
    "When we have pretrained model, that we want to use, we load this model from default path to Transformer model 'outputs/'\n",
    "\n",
    "By default it is saved in 'outputs/pytorch_model.bin'"
   ]
  },
  {
   "cell_type": "code",
   "execution_count": null,
   "id": "16a68d0a-7039-4039-8d90-19073372b332",
   "metadata": {},
   "outputs": [],
   "source": [
    "model = MultiLabelClassificationModel('roberta', 'outputs/',\n",
    "                                      num_labels=6, args=sargs,\n",
    "                                      use_cuda=False)"
   ]
  },
  {
   "cell_type": "markdown",
   "id": "6daee9b4-3510-46cd-81a9-92f93c5fcd15",
   "metadata": {},
   "source": [
    "### Training of the model with train_model()"
   ]
  },
  {
   "cell_type": "code",
   "execution_count": null,
   "id": "72e0f77c-c7a0-40ca-8a57-367ffbb5040f",
   "metadata": {},
   "outputs": [],
   "source": [
    "model.train_model(train_df)"
   ]
  },
  {
   "cell_type": "markdown",
   "id": "3ef36bea-d459-4203-8d47-5507ea8db9d8",
   "metadata": {},
   "source": [
    "### Evaluation of the model with eval_model()\n",
    "\n",
    "Returns:\n",
    "* result: Dictionary containing evaluation results.  By default the Label ranking average precision (LRAP) and loss are reported for multilabel classification. We use also roc_auc_score.\n",
    "* model_outputs: List of model outputs for each row in eval_df\n",
    "* wrong_preds: List of objects corresponding to each incorrect prediction by the model\n"
   ]
  },
  {
   "cell_type": "code",
   "execution_count": null,
   "id": "8624bc8d-7524-4fad-a1fe-99bf96aece2a",
   "metadata": {},
   "outputs": [],
   "source": [
    "result, model_outputs, wrong_predictions = model.eval_model(eval_df, acc=roc_auc_score)"
   ]
  },
  {
   "cell_type": "markdown",
   "id": "1f8c7369-25a7-4395-a6c1-e2af743c4363",
   "metadata": {},
   "source": [
    "#### Saving wrong predictions to .csv file for analysis"
   ]
  },
  {
   "cell_type": "code",
   "execution_count": null,
   "id": "9707dbd0-b743-4183-95d4-fb008765b192",
   "metadata": {},
   "outputs": [],
   "source": [
    "w_pred=pd.DataFrame(wrong_predictions)\n",
    "w_pred.to_csv('wrong_pred.csv', index=False)"
   ]
  },
  {
   "cell_type": "markdown",
   "id": "814f1c7c-6ede-403d-98c9-e6a5f39838f0",
   "metadata": {},
   "source": [
    "#### Saving model outputs to .csv file for analysis"
   ]
  },
  {
   "cell_type": "code",
   "execution_count": null,
   "id": "aac6c1d2-ef75-456d-82fe-f231f1260040",
   "metadata": {},
   "outputs": [],
   "source": [
    "mod_out=pd.DataFrame(model_outputs)\n",
    "mod_out.to_csv('mod_out.csv', index=False)"
   ]
  },
  {
   "cell_type": "markdown",
   "id": "a8512cce-0616-44c6-87a2-b1339de5138c",
   "metadata": {},
   "source": [
    "### Making predictions on (unlabelled) data with predict()\n",
    "\n",
    "Download test data set without labels"
   ]
  },
  {
   "cell_type": "code",
   "execution_count": null,
   "id": "1e04f26c-7609-4a7e-aa38-c5fcd2375712",
   "metadata": {},
   "outputs": [],
   "source": [
    "test_for_sub = pd.read_csv('data/df_test_cleaned.csv')"
   ]
  },
  {
   "cell_type": "markdown",
   "id": "59f661e6-3bfb-4dda-b176-ce5106cda59d",
   "metadata": {},
   "source": [
    "* Preparation of list of comments for model.predict() function\n",
    "* Run of model.predict() function"
   ]
  },
  {
   "cell_type": "code",
   "execution_count": null,
   "id": "84496b10-265f-4c7f-8169-4b3b2c0bf15a",
   "metadata": {},
   "outputs": [],
   "source": [
    "to_predict = test_for_sub.comment_text.tolist()\n",
    "preds, outputs = model.predict(to_predict)"
   ]
  },
  {
   "cell_type": "markdown",
   "id": "ef9545a7-dd46-4b28-b054-5d0dceda0147",
   "metadata": {},
   "source": [
    "Preparation of file for submiting on Kaggle"
   ]
  },
  {
   "cell_type": "code",
   "execution_count": null,
   "id": "243591df-886d-4a44-9836-a8a8022263a2",
   "metadata": {},
   "outputs": [],
   "source": [
    "sub_df = pd.DataFrame(outputs, columns=['toxic','severe_toxic','obscene','threat','insult','identity_hate'])\n",
    "sub_df['id'] = test_for_sub['id']\n",
    "sub_df = sub_df[['id', 'toxic','severe_toxic','obscene','threat','insult','identity_hate']]\n",
    "sub_df.to_csv('submission.csv', index=False)"
   ]
  }
 ],
 "metadata": {
  "kernelspec": {
   "display_name": "Python 3 (ipykernel)",
   "language": "python",
   "name": "python3"
  },
  "language_info": {
   "codemirror_mode": {
    "name": "ipython",
    "version": 3
   },
   "file_extension": ".py",
   "mimetype": "text/x-python",
   "name": "python",
   "nbconvert_exporter": "python",
   "pygments_lexer": "ipython3",
   "version": "3.9.4"
  }
 },
 "nbformat": 4,
 "nbformat_minor": 5
}
