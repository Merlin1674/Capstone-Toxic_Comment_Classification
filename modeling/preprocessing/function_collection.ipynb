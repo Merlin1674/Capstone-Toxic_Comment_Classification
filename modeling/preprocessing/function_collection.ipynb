{
 "cells": [
  {
   "cell_type": "code",
   "execution_count": null,
   "id": "8b5e0693-0297-4b22-95b2-89d5fd67b7e4",
   "metadata": {},
   "outputs": [],
   "source": [
    "from IPython.core.magic import register_cell_magic\n",
    "\n",
    "@register_cell_magic\n",
    "def write_and_run(line, cell):\n",
    "    argz = line.split()\n",
    "    file = argz[-1]\n",
    "    mode = 'w'\n",
    "    if len(argz) == 2 and argz[0] == '-a':\n",
    "        mode = 'a'\n",
    "        print(\"Appended to file \", file)\n",
    "    else:\n",
    "        print('Written to file:', file)\n",
    "    with open(file, mode) as f:\n",
    "        f.write(cell.format(**globals()))        \n",
    "    get_ipython().run_cell(cell)"
   ]
  },
  {
   "cell_type": "code",
   "execution_count": null,
   "id": "25f329a4-1475-479b-bd93-274062656a3b",
   "metadata": {},
   "outputs": [],
   "source": [
    "%%write_and_run preprocessing.py\n",
    "import re\n",
    "from nltk.corpus import stopwords"
   ]
  },
  {
   "cell_type": "code",
   "execution_count": null,
   "id": "2619ea11-e3b1-4eb5-a529-c8b374c4be0f",
   "metadata": {},
   "outputs": [],
   "source": [
    "%%write_and_run -a preprocessing.py\n",
    "\n",
    "special_character_removal=re.compile(r'[^a-z\\d ]',re.IGNORECASE)\n",
    "replace_numbers=re.compile(r'\\d+',re.IGNORECASE)\n",
    "    \n",
    "def clean_text(text):\n",
    "    text = text.lower()\n",
    "    text = re.sub(r\"what's\", \"what is \", text)\n",
    "    text = re.sub(r\"\\'s\", \" \", text)\n",
    "    text = re.sub(r\"\\'ve\", \" have \", text)\n",
    "    text = re.sub(r\"can't\", \"cannot \", text)\n",
    "    text = re.sub(r\"n't\", \" not \", text)\n",
    "    text = re.sub(r\"i'm\", \"i am \", text)\n",
    "    text = re.sub(r\"i’m\", \"i am\", text)\n",
    "    text = re.sub(r\"\\'re\", \" are \", text)\n",
    "    text = re.sub(r\"\\'d\", \" would \", text)\n",
    "    text = re.sub(r\"\\'ll\", \" will \", text)\n",
    "    text = re.sub(r\",\", \" \", text)\n",
    "    text = re.sub(r\"\\.\", \" \", text)\n",
    "    text = re.sub(r\"'\", \" \", text)\n",
    "    text = replace_numbers.sub('', text)\n",
    "    text = str(text).replace(\"\\n\", \" \")\n",
    "    text = str(text).replace(\"   \", \" \")\n",
    "    text = special_character_removal.sub('',text)\n",
    "    \n",
    "    if stop_words: # stop_word read from file and stop_word dictionary read from file\n",
    "        text = text.split()\n",
    "        #check for stopwords and remove\n",
    "        text = [word for word in text if not word in set(stopwords.words('english'))]\n",
    "        #back to string\n",
    "        text = ' '.join(text)\n",
    "    return text"
   ]
  },
  {
   "cell_type": "code",
   "execution_count": null,
   "id": "fcfcc6a9-72d4-4477-baef-8e9a176f8123",
   "metadata": {},
   "outputs": [],
   "source": [
    "%%write_and_run -a preprocessing.py\n",
    "def clean_dataframe(df):\n",
    "    list_sentences = df[\"comment_text\"].values\n",
    "    df['clean_comments'] = pd.Series([clean_text(text) for text in list_sentences])\n",
    "    return df"
   ]
  }
 ],
 "metadata": {
  "kernelspec": {
   "display_name": "Python 3 (ipykernel)",
   "language": "python",
   "name": "python3"
  },
  "language_info": {
   "codemirror_mode": {
    "name": "ipython",
    "version": 3
   },
   "file_extension": ".py",
   "mimetype": "text/x-python",
   "name": "python",
   "nbconvert_exporter": "python",
   "pygments_lexer": "ipython3",
   "version": "3.9.4"
  }
 },
 "nbformat": 4,
 "nbformat_minor": 5
}
