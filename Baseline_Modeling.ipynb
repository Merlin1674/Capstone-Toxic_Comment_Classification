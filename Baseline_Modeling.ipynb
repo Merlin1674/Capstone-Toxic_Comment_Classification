{
 "cells": [
  {
   "cell_type": "markdown",
   "id": "73831fcf-129f-4c4c-b68f-aad656c17572",
   "metadata": {},
   "source": [
    "# Baseline Model - Toxic Comment Classification\n",
    "\n",
    "* load data and preprocess\n",
    "* define train test split\n",
    "* define architecture and compile the model\n",
    "* train the model\n",
    "* evaluate the model\n"
   ]
  },
  {
   "cell_type": "markdown",
   "id": "02328628-21a4-4a3b-84a1-b61fc0f2ceca",
   "metadata": {},
   "source": [
    "## Multilabel Logistic Regression\n",
    "\n",
    "Multi-label classification assigns to each sample a set of target labels. Toxic comments can have one or multiple of the following labels:\n",
    "\n",
    "* toxic\n",
    "* severe_toxic\n",
    "* obscene\n",
    "* insult\n",
    "* identity_hate\n",
    "* threat"
   ]
  },
  {
   "cell_type": "markdown",
   "id": "7a520121-301f-4466-93d7-9111932d8d8b",
   "metadata": {},
   "source": [
    "### Import"
   ]
  },
  {
   "cell_type": "code",
   "execution_count": null,
   "id": "0cee3b40-a97f-4f97-863a-85495501d675",
   "metadata": {},
   "outputs": [],
   "source": [
    "%matplotlib inline\n",
    "\n",
    "import matplotlib\n",
    "import numpy as np\n",
    "import matplotlib.pyplot as plt\n",
    "import pandas as pd\n",
    "import re\n",
    "import seaborn as sns\n",
    "\n",
    "from nltk.corpus import stopwords\n",
    "from sklearn.feature_extraction.text import CountVectorizer, TfidfTransformer, TfidfVectorizer\n",
    "from sklearn.linear_model import LogisticRegression\n",
    "from sklearn.metrics import accuracy_score, confusion_matrix, classification_report, roc_auc_score, roc_curve \n",
    "from sklearn.model_selection import train_test_split\n",
    "from sklearn.multiclass import OneVsRestClassifier\n",
    "from sklearn.pipeline import Pipeline\n",
    "\n",
    "\n",
    "stop_words = set(stopwords.words('english'))"
   ]
  },
  {
   "cell_type": "code",
   "execution_count": null,
   "id": "6ba858a1-69f8-4c3d-ad8f-76df971215fa",
   "metadata": {},
   "outputs": [],
   "source": [
    "RSEED = 42\n",
    "TEST_SIZE = 0.33\n",
    "\n",
    "TRAIN_PATH = 'data/train.csv'\n",
    "EVAL_PATH = 'data/train.csv'\n",
    "TEST_PATH = 'data/train.csv'\n",
    "\n",
    "categories = ['toxic', 'severe_toxic', 'obscene', 'threat', 'insult', 'identity_hate']"
   ]
  },
  {
   "cell_type": "markdown",
   "id": "80cec50c-40df-4147-9831-7f73e97d1871",
   "metadata": {},
   "source": [
    "### Preprocessing\n",
    "\n",
    "An dieser Stelle, können wir Funktionen aus dem preprocessing notebook aufrufen.\n",
    "\n",
    "TODO: import preprocessing notebook"
   ]
  },
  {
   "cell_type": "code",
   "execution_count": null,
   "id": "00c11fc6-af97-4fcc-96ab-00b7473e6340",
   "metadata": {},
   "outputs": [],
   "source": [
    "def load_data(path):\n",
    "    df = pd.read_csv(path)\n",
    "    return df"
   ]
  },
  {
   "cell_type": "code",
   "execution_count": null,
   "id": "b080e058-8d6d-4192-a12d-6ec0c179e612",
   "metadata": {},
   "outputs": [],
   "source": [
    "def data_split(X, Y):\n",
    "    X_train, X_test, y_train, y_test = train_test_split(X, Y, test_size=TEST_SIZE, random_state=RSEED)\n",
    "    return X_train, X_test, y_train, y_test"
   ]
  },
  {
   "cell_type": "code",
   "execution_count": null,
   "id": "40f74b33-99c2-487f-9c77-f8f4f7fa9a02",
   "metadata": {},
   "outputs": [],
   "source": [
    "# Basic text cleaning\n",
    "# TODO: Replace with functions from preprocessing notebook\n",
    "def clean_text(text):\n",
    "    text = text.lower()\n",
    "    text = re.sub(r\"what's\", \"what is \", text)\n",
    "    text = re.sub(r\"\\'s\", \" \", text)\n",
    "    text = re.sub(r\"\\'ve\", \" have \", text)\n",
    "    text = re.sub(r\"can't\", \"can not \", text)\n",
    "    text = re.sub(r\"n't\", \" not \", text)\n",
    "    text = re.sub(r\"i'm\", \"i am \", text)\n",
    "    text = re.sub(r\"\\'re\", \" are \", text)\n",
    "    text = re.sub(r\"\\'d\", \" would \", text)\n",
    "    text = re.sub(r\"\\'ll\", \" will \", text)\n",
    "    text = re.sub(r\"\\'scuse\", \" excuse \", text)\n",
    "    text = re.sub('\\W', ' ', text)\n",
    "    text = re.sub('\\s+', ' ', text)\n",
    "    text = text.strip(' ')\n",
    "    return text"
   ]
  },
  {
   "cell_type": "code",
   "execution_count": null,
   "id": "3b7e0b89-1011-4b1f-b082-00b2f77883b7",
   "metadata": {},
   "outputs": [],
   "source": [
    "df = load_data(TRAIN_PATH)"
   ]
  },
  {
   "cell_type": "code",
   "execution_count": null,
   "id": "a47aca5c-10c8-4997-924f-bf5c9b84a828",
   "metadata": {},
   "outputs": [],
   "source": [
    "# clean comment_text\n",
    "df['comment_text'] = df['comment_text'].map(lambda com : clean_text(com))"
   ]
  },
  {
   "cell_type": "markdown",
   "id": "15045b6a-d9f7-4811-9fbb-3aff9a825dd1",
   "metadata": {},
   "source": [
    "### Multi Label Logistic Regression\n"
   ]
  },
  {
   "cell_type": "markdown",
   "id": "3931ca69-cb83-400d-9496-ea6dafe3939c",
   "metadata": {},
   "source": [
    "#### Setup and Train the Classifier"
   ]
  },
  {
   "cell_type": "code",
   "execution_count": null,
   "id": "7621cb02-a133-4f08-bdb0-00c1038ea8d3",
   "metadata": {},
   "outputs": [],
   "source": [
    "# Train Test Split\n",
    "X = df['comment_text']\n",
    "Y = df[categories]\n",
    "X_train, X_test, y_train, y_test = data_split(X, Y)"
   ]
  },
  {
   "cell_type": "code",
   "execution_count": null,
   "id": "478fb15d-defa-428a-b263-94fa13441da8",
   "metadata": {},
   "outputs": [],
   "source": [
    "# Initialize Logistic Regression Pipeline\n",
    "multi_label_clf = Pipeline([\n",
    "                ('tfidf', TfidfVectorizer(stop_words=stop_words)),\n",
    "                ('clf', OneVsRestClassifier(LogisticRegression(solver='sag'), n_jobs=1)),\n",
    "            ])"
   ]
  },
  {
   "cell_type": "code",
   "execution_count": null,
   "id": "69b28da7-b479-44fe-bdfc-b06099f42d67",
   "metadata": {},
   "outputs": [],
   "source": [
    "accuracy_list = []\n",
    "roc_auc_scores = []\n",
    "fpr_list = []\n",
    "tpr_list = []\n",
    "treshold_list = []\n",
    "\n",
    "\n",
    "for category in categories:\n",
    "    print('... Processing {}'.format(category))\n",
    "    # train the model with X and y train\n",
    "    multi_label_clf.fit(X_train, y_train[category])\n",
    "    # compute the testing accuracy and roc auc score\n",
    "    prediction = multi_label_clf.predict(X_test)\n",
    "    score = accuracy_score(y_test[category], prediction)\n",
    "    accuracy_list.append(score)\n",
    "    #roc_auc = roc_auc_score(y_test[category], prediction)\n",
    "    #roc_auc_scores.append(roc_auc)\n",
    "    ## TODO: Add F1 score\n",
    "    \n",
    "    y_score = multi_label_clf.fit(X_train, y_train[category]).decision_function(X_test)\n",
    "    fpr, tpr, tresh = roc_curve(y_test[category], y_score, pos_label=1, drop_intermediate=False)\n",
    "    fpr_list.append(fpr)\n",
    "    tpr_list.append(tpr)\n",
    "    treshold_list.append(tresh)\n",
    "    roc_auc = roc_auc_score(y_test[category], y_score)\n",
    "    roc_auc_scores.append(roc_auc)\n",
    "    \n",
    "    \n",
    "    print('ROC AUC score is {}'.format(roc_auc))\n",
    "    print('Test accuracy is {}'.format(score))"
   ]
  },
  {
   "cell_type": "code",
   "execution_count": null,
   "id": "cdcbe5a4-30e4-4116-a62d-0a7f22edba3f",
   "metadata": {
    "tags": []
   },
   "outputs": [],
   "source": [
    "plt.subplots(1, figsize=(10,10))\n",
    "plt.title('Receiver Operating Characteristic')\n",
    "for i in range(len(fpr_list)):\n",
    "    plt.plot(fpr_list[i], tpr_list[i], label= 'ROC curve (area = %0.2f)' % roc_auc_scores[i])\n",
    "plt.plot([0, 1], ls=\"--\", label='baseline')\n",
    "plt.plot([0, 0], [1, 0] , c=\".7\"), plt.plot([1, 1] , c=\".7\")\n",
    "plt.ylabel('True Positive Rate')\n",
    "plt.xlabel('False Positive Rate')\n",
    "plt.legend(loc=\"lower right\")\n",
    "plt.show()"
   ]
  },
  {
   "cell_type": "code",
   "execution_count": null,
   "id": "73b12a83-16b1-4c80-8b3c-fa7c0bc60b1b",
   "metadata": {},
   "outputs": [],
   "source": [
    "avg_accuracy = sum(accuracy_list) / len(accuracy_list)\n",
    "print('Average accuracy is {}'.format(avg_accuracy))\n",
    "\n",
    "avg_roc_auc = sum(roc_auc_scores) / len(roc_auc_scores)\n",
    "print('Average ROC AUC Score is {}'.format(avg_roc_auc))"
   ]
  },
  {
   "cell_type": "code",
   "execution_count": null,
   "id": "5294500c-75b6-4d55-9bcc-9a23f803b484",
   "metadata": {},
   "outputs": [],
   "source": [
    "'''\n",
    "# TODO: Classification Report Multi-Label\n",
    "# Classification report\n",
    "model_report = classification_report(y_test, y_pred)\n",
    "print(model_report)\n",
    "\n",
    "# TODO: Confusion Matrix Mult-Label\n",
    "# Confusion Matrix\n",
    "model_conf = confusion_matrix(y_test, y_pred)\n",
    "print(model_conf)\n",
    "'''\n",
    "pass"
   ]
  }
 ],
 "metadata": {
  "kernelspec": {
   "display_name": "Python 3 (ipykernel)",
   "language": "python",
   "name": "python3"
  },
  "language_info": {
   "codemirror_mode": {
    "name": "ipython",
    "version": 3
   },
   "file_extension": ".py",
   "mimetype": "text/x-python",
   "name": "python",
   "nbconvert_exporter": "python",
   "pygments_lexer": "ipython3",
   "version": "3.9.4"
  }
 },
 "nbformat": 4,
 "nbformat_minor": 5
}
