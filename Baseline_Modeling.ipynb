{
 "cells": [
  {
   "cell_type": "markdown",
   "id": "73831fcf-129f-4c4c-b68f-aad656c17572",
   "metadata": {},
   "source": [
    "# Baseline Model - Toxic Comment Classification\n",
    "\n",
    "* load data and preprocess\n",
    "* define train test split\n",
    "* define architecture and compile the model\n",
    "* train the model\n",
    "* evaluate the model\n"
   ]
  },
  {
   "cell_type": "markdown",
   "id": "02328628-21a4-4a3b-84a1-b61fc0f2ceca",
   "metadata": {},
   "source": [
    "## Multilabel Logistic Regression\n",
    "\n",
    "Multi-label classification assigns to each sample a set of target labels. Toxic comments can have one or multiple of the following labels:\n",
    "\n",
    "* toxic\n",
    "* severe_toxic\n",
    "* obscene\n",
    "* insult\n",
    "* identity_hate\n",
    "* threat"
   ]
  },
  {
   "cell_type": "markdown",
   "id": "7a520121-301f-4466-93d7-9111932d8d8b",
   "metadata": {},
   "source": [
    "### Import"
   ]
  },
  {
   "cell_type": "code",
   "execution_count": 14,
   "id": "0cee3b40-a97f-4f97-863a-85495501d675",
   "metadata": {},
   "outputs": [],
   "source": [
    "%matplotlib inline\n",
    "\n",
    "import matplotlib\n",
    "import numpy as np\n",
    "import matplotlib.pyplot as plt\n",
    "import pandas as pd\n",
    "import re\n",
    "import seaborn as sns\n",
    "\n",
    "from nltk.corpus import stopwords\n",
    "from sklearn.feature_extraction.text import CountVectorizer, TfidfTransformer, TfidfVectorizer\n",
    "from sklearn.linear_model import LogisticRegression\n",
    "from sklearn.metrics import accuracy_score, confusion_matrix, classification_report, roc_auc_score, roc_curve \n",
    "from sklearn.model_selection import train_test_split\n",
    "from sklearn.multiclass import OneVsRestClassifier\n",
    "from sklearn.pipeline import Pipeline\n",
    "\n",
    "\n",
    "stop_words = set(stopwords.words('english'))"
   ]
  },
  {
   "cell_type": "code",
   "execution_count": 36,
   "id": "6ba858a1-69f8-4c3d-ad8f-76df971215fa",
   "metadata": {},
   "outputs": [],
   "source": [
    "RSEED = 42\n",
    "TEST_SIZE = 0.33\n",
    "\n",
    "TRAIN_PATH = 'data/train.csv'\n",
    "EVAL_PATH = 'data/train.csv'\n",
    "TEST_PATH = 'data/test.csv'\n",
    "TEST_LABEL_PATH = 'data/test_labels.csv'\n",
    "\n",
    "categories = ['toxic', 'severe_toxic', 'obscene', 'threat',  'insult', 'identity_hate']"
   ]
  },
  {
   "cell_type": "markdown",
   "id": "80cec50c-40df-4147-9831-7f73e97d1871",
   "metadata": {},
   "source": [
    "### Preprocessing\n",
    "\n",
    "An dieser Stelle, können wir Funktionen aus dem preprocessing notebook aufrufen.\n",
    "\n",
    "TODO: import preprocessing notebook"
   ]
  },
  {
   "cell_type": "code",
   "execution_count": 16,
   "id": "00c11fc6-af97-4fcc-96ab-00b7473e6340",
   "metadata": {},
   "outputs": [],
   "source": [
    "def load_data(path):\n",
    "    df = pd.read_csv(path)\n",
    "    return df"
   ]
  },
  {
   "cell_type": "code",
   "execution_count": 17,
   "id": "b080e058-8d6d-4192-a12d-6ec0c179e612",
   "metadata": {},
   "outputs": [],
   "source": [
    "def data_split(X, Y):\n",
    "    X_train, X_test, y_train, y_test = train_test_split(X, Y, test_size=TEST_SIZE, random_state=RSEED)\n",
    "    return X_train, X_test, y_train, y_test"
   ]
  },
  {
   "cell_type": "code",
   "execution_count": 18,
   "id": "40f74b33-99c2-487f-9c77-f8f4f7fa9a02",
   "metadata": {},
   "outputs": [],
   "source": [
    "# Basic text cleaning\n",
    "# TODO: Replace with functions from preprocessing notebook\n",
    "def clean_text(text):\n",
    "    text = text.lower()\n",
    "    text = re.sub(r\"what's\", \"what is \", text)\n",
    "    text = re.sub(r\"\\'s\", \" \", text)\n",
    "    text = re.sub(r\"\\'ve\", \" have \", text)\n",
    "    text = re.sub(r\"can't\", \"can not \", text)\n",
    "    text = re.sub(r\"n't\", \" not \", text)\n",
    "    text = re.sub(r\"i'm\", \"i am \", text)\n",
    "    text = re.sub(r\"\\'re\", \" are \", text)\n",
    "    text = re.sub(r\"\\'d\", \" would \", text)\n",
    "    text = re.sub(r\"\\'ll\", \" will \", text)\n",
    "    text = re.sub(r\"\\'scuse\", \" excuse \", text)\n",
    "    text = re.sub('\\W', ' ', text)\n",
    "    text = re.sub('\\s+', ' ', text)\n",
    "    text = text.strip(' ')\n",
    "    return text"
   ]
  },
  {
   "cell_type": "code",
   "execution_count": 19,
   "id": "3b7e0b89-1011-4b1f-b082-00b2f77883b7",
   "metadata": {},
   "outputs": [],
   "source": [
    "df = load_data(TRAIN_PATH)"
   ]
  },
  {
   "cell_type": "code",
   "execution_count": 20,
   "id": "a47aca5c-10c8-4997-924f-bf5c9b84a828",
   "metadata": {},
   "outputs": [],
   "source": [
    "# clean comment_text\n",
    "df['comment_text'] = df['comment_text'].map(lambda com : clean_text(com))"
   ]
  },
  {
   "cell_type": "markdown",
   "id": "15045b6a-d9f7-4811-9fbb-3aff9a825dd1",
   "metadata": {},
   "source": [
    "### Multi Label Logistic Regression\n"
   ]
  },
  {
   "cell_type": "markdown",
   "id": "3931ca69-cb83-400d-9496-ea6dafe3939c",
   "metadata": {},
   "source": [
    "#### Setup and Train the Classifier"
   ]
  },
  {
   "cell_type": "code",
   "execution_count": 86,
   "id": "7621cb02-a133-4f08-bdb0-00c1038ea8d3",
   "metadata": {},
   "outputs": [],
   "source": [
    "# Train Test Split\n",
    "X = df['comment_text']\n",
    "Y = df[categories]\n",
    "X_train, X_test, y_train, y_test = data_split(X, Y)"
   ]
  },
  {
   "cell_type": "code",
   "execution_count": 87,
   "id": "d81283fb-5b3b-476c-a9a7-5c82d1c5ffe3",
   "metadata": {},
   "outputs": [],
   "source": [
    "# Jigsaw Testset\n",
    "test_df = load_data(TEST_PATH)"
   ]
  },
  {
   "cell_type": "code",
   "execution_count": 88,
   "id": "f0d5ce04-6df0-4744-84a5-1c2fd4a0e6dc",
   "metadata": {},
   "outputs": [],
   "source": [
    "test_df['comment_text'] = test_df['comment_text'].map(lambda com : clean_text(com))"
   ]
  },
  {
   "cell_type": "code",
   "execution_count": 128,
   "id": "de8ead3d-20aa-49dc-afc5-25ee5c2c1c23",
   "metadata": {},
   "outputs": [
    {
     "data": {
      "text/html": [
       "<div>\n",
       "<style scoped>\n",
       "    .dataframe tbody tr th:only-of-type {\n",
       "        vertical-align: middle;\n",
       "    }\n",
       "\n",
       "    .dataframe tbody tr th {\n",
       "        vertical-align: top;\n",
       "    }\n",
       "\n",
       "    .dataframe thead th {\n",
       "        text-align: right;\n",
       "    }\n",
       "</style>\n",
       "<table border=\"1\" class=\"dataframe\">\n",
       "  <thead>\n",
       "    <tr style=\"text-align: right;\">\n",
       "      <th></th>\n",
       "      <th>id</th>\n",
       "      <th>comment_text</th>\n",
       "    </tr>\n",
       "  </thead>\n",
       "  <tbody>\n",
       "    <tr>\n",
       "      <th>0</th>\n",
       "      <td>00001cee341fdb12</td>\n",
       "      <td>yo bitch ja rule is more succesful then you wi...</td>\n",
       "    </tr>\n",
       "    <tr>\n",
       "      <th>1</th>\n",
       "      <td>0000247867823ef7</td>\n",
       "      <td>from rfc the title is fine as it is imo</td>\n",
       "    </tr>\n",
       "    <tr>\n",
       "      <th>2</th>\n",
       "      <td>00013b17ad220c46</td>\n",
       "      <td>sources zawe ashton on lapland</td>\n",
       "    </tr>\n",
       "    <tr>\n",
       "      <th>3</th>\n",
       "      <td>00017563c3f7919a</td>\n",
       "      <td>if you have a look back at the source the info...</td>\n",
       "    </tr>\n",
       "    <tr>\n",
       "      <th>4</th>\n",
       "      <td>00017695ad8997eb</td>\n",
       "      <td>i do not anonymously edit articles at all</td>\n",
       "    </tr>\n",
       "  </tbody>\n",
       "</table>\n",
       "</div>"
      ],
      "text/plain": [
       "                 id                                       comment_text\n",
       "0  00001cee341fdb12  yo bitch ja rule is more succesful then you wi...\n",
       "1  0000247867823ef7            from rfc the title is fine as it is imo\n",
       "2  00013b17ad220c46                     sources zawe ashton on lapland\n",
       "3  00017563c3f7919a  if you have a look back at the source the info...\n",
       "4  00017695ad8997eb          i do not anonymously edit articles at all"
      ]
     },
     "execution_count": 128,
     "metadata": {},
     "output_type": "execute_result"
    }
   ],
   "source": [
    "test_df.head()"
   ]
  },
  {
   "cell_type": "code",
   "execution_count": 93,
   "id": "7d30e3b1-7d23-40f8-a656-b174d01c871f",
   "metadata": {},
   "outputs": [],
   "source": [
    "X_test_sub = test_df['comment_text']"
   ]
  },
  {
   "cell_type": "code",
   "execution_count": 132,
   "id": "5a1c63bd-f369-47b7-9334-89678e1bb07a",
   "metadata": {},
   "outputs": [
    {
     "data": {
      "text/plain": [
       "24484     references references may contain weasel words...\n",
       "130388    i am not going to engage with you more you are...\n",
       "77721     unsigned comment added 11 25 21 july 2006 by 1...\n",
       "95176     cj dub you are an ignoramis and a fool you sho...\n",
       "22347     i know phyho was so desperate and then he died...\n",
       "75671     langer who the fuck do you think you are you g...\n",
       "118604                                i am able to see them\n",
       "104136    jango noble warriors trilogy a proposed deleti...\n",
       "98898                   redirect talk military medal france\n",
       "60122     cite journal ref harv last jellema first dirk ...\n",
       "133134    what on earth is a swiss mongolian certainly s...\n",
       "16574     oppose all these different terms refer to slig...\n",
       "75893                                      email re enabled\n",
       "143628              jhfjksdhmvbkjdf fuck nsdfhgjdfhgjkladfg\n",
       "3582      this article was out of date and did not appea...\n",
       "136135    ma ne prezivam se živ nego živković ovo je sam...\n",
       "44384     please refrain from adding nonsense to wikiped...\n",
       "76348                        4 february 2013 utc test 17 51\n",
       "107783                                   you are ridiculous\n",
       "84787     you may consider it untenable but the sentence...\n",
       "Name: comment_text, dtype: object"
      ]
     },
     "execution_count": 132,
     "metadata": {},
     "output_type": "execute_result"
    }
   ],
   "source": [
    "X_test_sub.sample(20)"
   ]
  },
  {
   "cell_type": "code",
   "execution_count": 95,
   "id": "b96ae676-36ac-4c1d-a905-86f944fcdf1c",
   "metadata": {},
   "outputs": [
    {
     "data": {
      "text/plain": [
       "0    yo bitch ja rule is more succesful then you wi...\n",
       "Name: comment_text, dtype: object"
      ]
     },
     "execution_count": 95,
     "metadata": {},
     "output_type": "execute_result"
    }
   ],
   "source": [
    "X_test_sub.head(1)"
   ]
  },
  {
   "cell_type": "code",
   "execution_count": 96,
   "id": "db791ba3-1270-4bb1-aec7-ff64966002d8",
   "metadata": {},
   "outputs": [
    {
     "data": {
      "text/plain": [
       "0    yo bitch ja rule is more succesful then you wi...\n",
       "1              from rfc the title is fine as it is imo\n",
       "2                       sources zawe ashton on lapland\n",
       "3    if you have a look back at the source the info...\n",
       "4            i do not anonymously edit articles at all\n",
       "Name: comment_text, dtype: object"
      ]
     },
     "execution_count": 96,
     "metadata": {},
     "output_type": "execute_result"
    }
   ],
   "source": [
    "X_test_sub.head()"
   ]
  },
  {
   "cell_type": "code",
   "execution_count": 97,
   "id": "478fb15d-defa-428a-b263-94fa13441da8",
   "metadata": {},
   "outputs": [],
   "source": [
    "# Initialize Logistic Regression Pipeline\n",
    "multi_label_clf = Pipeline([\n",
    "                ('tfidf', TfidfVectorizer(stop_words=stop_words)),\n",
    "                ('clf', OneVsRestClassifier(LogisticRegression(solver='sag'), n_jobs=1)),\n",
    "            ])"
   ]
  },
  {
   "cell_type": "code",
   "execution_count": 112,
   "id": "e72f7ccc-4a2c-4997-a8c2-57ed8832a38d",
   "metadata": {},
   "outputs": [],
   "source": [
    "submissions_df = test_df['id'].to_frame()"
   ]
  },
  {
   "cell_type": "code",
   "execution_count": 113,
   "id": "546e0113-2b97-4457-8561-6ca763f29c6e",
   "metadata": {},
   "outputs": [
    {
     "data": {
      "text/html": [
       "<div>\n",
       "<style scoped>\n",
       "    .dataframe tbody tr th:only-of-type {\n",
       "        vertical-align: middle;\n",
       "    }\n",
       "\n",
       "    .dataframe tbody tr th {\n",
       "        vertical-align: top;\n",
       "    }\n",
       "\n",
       "    .dataframe thead th {\n",
       "        text-align: right;\n",
       "    }\n",
       "</style>\n",
       "<table border=\"1\" class=\"dataframe\">\n",
       "  <thead>\n",
       "    <tr style=\"text-align: right;\">\n",
       "      <th></th>\n",
       "      <th>id</th>\n",
       "    </tr>\n",
       "  </thead>\n",
       "  <tbody>\n",
       "    <tr>\n",
       "      <th>0</th>\n",
       "      <td>00001cee341fdb12</td>\n",
       "    </tr>\n",
       "    <tr>\n",
       "      <th>1</th>\n",
       "      <td>0000247867823ef7</td>\n",
       "    </tr>\n",
       "    <tr>\n",
       "      <th>2</th>\n",
       "      <td>00013b17ad220c46</td>\n",
       "    </tr>\n",
       "    <tr>\n",
       "      <th>3</th>\n",
       "      <td>00017563c3f7919a</td>\n",
       "    </tr>\n",
       "    <tr>\n",
       "      <th>4</th>\n",
       "      <td>00017695ad8997eb</td>\n",
       "    </tr>\n",
       "  </tbody>\n",
       "</table>\n",
       "</div>"
      ],
      "text/plain": [
       "                 id\n",
       "0  00001cee341fdb12\n",
       "1  0000247867823ef7\n",
       "2  00013b17ad220c46\n",
       "3  00017563c3f7919a\n",
       "4  00017695ad8997eb"
      ]
     },
     "execution_count": 113,
     "metadata": {},
     "output_type": "execute_result"
    }
   ],
   "source": [
    "submissions_df.head()"
   ]
  },
  {
   "cell_type": "code",
   "execution_count": 99,
   "id": "69b28da7-b479-44fe-bdfc-b06099f42d67",
   "metadata": {},
   "outputs": [
    {
     "name": "stdout",
     "output_type": "stream",
     "text": [
      "... Processing toxic\n",
      "52659\n",
      "153164\n",
      "ROC AUC score is 0.968167624181483\n",
      "Test accuracy is 0.9549364780949126\n",
      "... Processing severe_toxic\n",
      "52659\n",
      "153164\n",
      "ROC AUC score is 0.9837004527539572\n",
      "Test accuracy is 0.9910556600011394\n",
      "... Processing obscene\n",
      "52659\n",
      "153164\n",
      "ROC AUC score is 0.9835251881803677\n",
      "Test accuracy is 0.9761104464573956\n",
      "... Processing threat\n",
      "52659\n",
      "153164\n",
      "ROC AUC score is 0.9778979344107503\n",
      "Test accuracy is 0.9973603752444976\n",
      "... Processing insult\n",
      "52659\n",
      "153164\n",
      "ROC AUC score is 0.9751410536142623\n",
      "Test accuracy is 0.9687612753755294\n",
      "... Processing identity_hate\n",
      "52659\n",
      "153164\n",
      "ROC AUC score is 0.9756245466944025\n",
      "Test accuracy is 0.991758293928863\n"
     ]
    }
   ],
   "source": [
    "accuracy_list = []\n",
    "roc_auc_scores = []\n",
    "fpr_list = []\n",
    "tpr_list = []\n",
    "treshold_list = []\n",
    "\n",
    "\n",
    "for category in categories:\n",
    "    print('... Processing {}'.format(category))\n",
    "    # train the model with X and y train\n",
    "    multi_label_clf.fit(X_train, y_train[category])\n",
    "    # compute the testing accuracy and roc auc score\n",
    "    prediction = multi_label_clf.predict(X_test)\n",
    "    pred_sub = multi_label_clf.predict(X_test_sub)\n",
    "    print(len(prediction))\n",
    "    print(len(pred_sub))\n",
    "    #sub_preds = multi_label_clf.predict_proba(X_test_sub)\n",
    "    #submissions_df[category] = sub_preds\n",
    "    score = accuracy_score(y_test[category], prediction)\n",
    "    accuracy_list.append(score)\n",
    "    \n",
    "    y_score = multi_label_clf.fit(X_train, y_train[category]).decision_function(X_test)\n",
    "    fpr, tpr, tresh = roc_curve(y_test[category], y_score, pos_label=1, drop_intermediate=False)\n",
    "    fpr_list.append(fpr)\n",
    "    tpr_list.append(tpr)\n",
    "    treshold_list.append(tresh)\n",
    "    roc_auc = roc_auc_score(y_test[category], y_score)\n",
    "    roc_auc_scores.append(roc_auc)\n",
    "    \n",
    "    print('ROC AUC score is {}'.format(roc_auc))\n",
    "    print('Test accuracy is {}'.format(score))"
   ]
  },
  {
   "cell_type": "code",
   "execution_count": 100,
   "id": "cdcbe5a4-30e4-4116-a62d-0a7f22edba3f",
   "metadata": {
    "tags": []
   },
   "outputs": [
    {
     "data": {
      "image/png": "[encoded data removed]",
      "text/plain": [
       "<Figure size 720x720 with 1 Axes>"
      ]
     },
     "metadata": {
      "needs_background": "light"
     },
     "output_type": "display_data"
    }
   ],
   "source": [
    "plt.subplots(1, figsize=(10,10))\n",
    "plt.title('Receiver Operating Characteristic')\n",
    "for i in range(len(fpr_list)):\n",
    "    plt.plot(fpr_list[i], tpr_list[i], label= 'ROC curve (area = %0.2f) for %s' % (roc_auc_scores[i], categories[i]))\n",
    "plt.plot([0, 1], ls=\"--\", label='baseline')\n",
    "plt.plot([0, 0], [1, 0] , c=\".7\"), plt.plot([1, 1] , c=\".7\")\n",
    "plt.ylabel('True Positive Rate')\n",
    "plt.xlabel('False Positive Rate')\n",
    "plt.legend(loc=\"lower right\")\n",
    "plt.show()"
   ]
  },
  {
   "cell_type": "code",
   "execution_count": 101,
   "id": "73b12a83-16b1-4c80-8b3c-fa7c0bc60b1b",
   "metadata": {},
   "outputs": [
    {
     "name": "stdout",
     "output_type": "stream",
     "text": [
      "Average accuracy is 0.979997088183723\n",
      "Average ROC AUC Score is 0.9773427999725371\n"
     ]
    }
   ],
   "source": [
    "avg_accuracy = sum(accuracy_list) / len(accuracy_list)\n",
    "print('Average accuracy is {}'.format(avg_accuracy))\n",
    "\n",
    "avg_roc_auc = sum(roc_auc_scores) / len(roc_auc_scores)\n",
    "print('Average ROC AUC Score is {}'.format(avg_roc_auc))"
   ]
  },
  {
   "cell_type": "code",
   "execution_count": 135,
   "id": "7b9bf0ca-a612-4272-98c1-ebd5cdf838e5",
   "metadata": {},
   "outputs": [],
   "source": [
    "# Predict test data\n",
    "for category in categories:\n",
    "    test_predictions = multi_label_clf.predict_proba(X_test_sub)\n",
    "    submissions_df[category] = test_predictions[:, 1]"
   ]
  },
  {
   "cell_type": "code",
   "execution_count": 136,
   "id": "875975f8-4962-456a-803a-7bd3e6a1b593",
   "metadata": {},
   "outputs": [
    {
     "data": {
      "text/html": [
       "<div>\n",
       "<style scoped>\n",
       "    .dataframe tbody tr th:only-of-type {\n",
       "        vertical-align: middle;\n",
       "    }\n",
       "\n",
       "    .dataframe tbody tr th {\n",
       "        vertical-align: top;\n",
       "    }\n",
       "\n",
       "    .dataframe thead th {\n",
       "        text-align: right;\n",
       "    }\n",
       "</style>\n",
       "<table border=\"1\" class=\"dataframe\">\n",
       "  <thead>\n",
       "    <tr style=\"text-align: right;\">\n",
       "      <th></th>\n",
       "      <th>id</th>\n",
       "      <th>toxic</th>\n",
       "      <th>severe_toxic</th>\n",
       "      <th>obscene</th>\n",
       "      <th>threat</th>\n",
       "      <th>insult</th>\n",
       "      <th>identity_hate</th>\n",
       "    </tr>\n",
       "  </thead>\n",
       "  <tbody>\n",
       "    <tr>\n",
       "      <th>0</th>\n",
       "      <td>00001cee341fdb12</td>\n",
       "      <td>0.186549</td>\n",
       "      <td>0.186549</td>\n",
       "      <td>0.186549</td>\n",
       "      <td>0.186549</td>\n",
       "      <td>0.186549</td>\n",
       "      <td>0.186549</td>\n",
       "    </tr>\n",
       "    <tr>\n",
       "      <th>1</th>\n",
       "      <td>0000247867823ef7</td>\n",
       "      <td>0.004539</td>\n",
       "      <td>0.004539</td>\n",
       "      <td>0.004539</td>\n",
       "      <td>0.004539</td>\n",
       "      <td>0.004539</td>\n",
       "      <td>0.004539</td>\n",
       "    </tr>\n",
       "    <tr>\n",
       "      <th>2</th>\n",
       "      <td>00013b17ad220c46</td>\n",
       "      <td>0.006202</td>\n",
       "      <td>0.006202</td>\n",
       "      <td>0.006202</td>\n",
       "      <td>0.006202</td>\n",
       "      <td>0.006202</td>\n",
       "      <td>0.006202</td>\n",
       "    </tr>\n",
       "    <tr>\n",
       "      <th>3</th>\n",
       "      <td>00017563c3f7919a</td>\n",
       "      <td>0.001547</td>\n",
       "      <td>0.001547</td>\n",
       "      <td>0.001547</td>\n",
       "      <td>0.001547</td>\n",
       "      <td>0.001547</td>\n",
       "      <td>0.001547</td>\n",
       "    </tr>\n",
       "    <tr>\n",
       "      <th>4</th>\n",
       "      <td>00017695ad8997eb</td>\n",
       "      <td>0.004021</td>\n",
       "      <td>0.004021</td>\n",
       "      <td>0.004021</td>\n",
       "      <td>0.004021</td>\n",
       "      <td>0.004021</td>\n",
       "      <td>0.004021</td>\n",
       "    </tr>\n",
       "  </tbody>\n",
       "</table>\n",
       "</div>"
      ],
      "text/plain": [
       "                 id     toxic  severe_toxic   obscene    threat    insult  \\\n",
       "0  00001cee341fdb12  0.186549      0.186549  0.186549  0.186549  0.186549   \n",
       "1  0000247867823ef7  0.004539      0.004539  0.004539  0.004539  0.004539   \n",
       "2  00013b17ad220c46  0.006202      0.006202  0.006202  0.006202  0.006202   \n",
       "3  00017563c3f7919a  0.001547      0.001547  0.001547  0.001547  0.001547   \n",
       "4  00017695ad8997eb  0.004021      0.004021  0.004021  0.004021  0.004021   \n",
       "\n",
       "   identity_hate  \n",
       "0       0.186549  \n",
       "1       0.004539  \n",
       "2       0.006202  \n",
       "3       0.001547  \n",
       "4       0.004021  "
      ]
     },
     "execution_count": 136,
     "metadata": {},
     "output_type": "execute_result"
    }
   ],
   "source": [
    "submissions_df.head()"
   ]
  },
  {
   "cell_type": "code",
   "execution_count": 137,
   "id": "e58df297-8f49-4ae7-8bd0-24f14575519c",
   "metadata": {},
   "outputs": [
    {
     "data": {
      "text/plain": [
       "0    yo bitch ja rule is more succesful then you wi...\n",
       "1              from rfc the title is fine as it is imo\n",
       "2                       sources zawe ashton on lapland\n",
       "3    if you have a look back at the source the info...\n",
       "4            i do not anonymously edit articles at all\n",
       "Name: comment_text, dtype: object"
      ]
     },
     "execution_count": 137,
     "metadata": {},
     "output_type": "execute_result"
    }
   ],
   "source": [
    "X_test_sub.head()"
   ]
  },
  {
   "cell_type": "code",
   "execution_count": 138,
   "id": "45e2d244-5dc9-4f03-bf89-b2770665c120",
   "metadata": {},
   "outputs": [
    {
     "data": {
      "text/html": [
       "<div>\n",
       "<style scoped>\n",
       "    .dataframe tbody tr th:only-of-type {\n",
       "        vertical-align: middle;\n",
       "    }\n",
       "\n",
       "    .dataframe tbody tr th {\n",
       "        vertical-align: top;\n",
       "    }\n",
       "\n",
       "    .dataframe thead th {\n",
       "        text-align: right;\n",
       "    }\n",
       "</style>\n",
       "<table border=\"1\" class=\"dataframe\">\n",
       "  <thead>\n",
       "    <tr style=\"text-align: right;\">\n",
       "      <th></th>\n",
       "      <th>id</th>\n",
       "      <th>toxic</th>\n",
       "      <th>severe_toxic</th>\n",
       "      <th>obscene</th>\n",
       "      <th>threat</th>\n",
       "      <th>insult</th>\n",
       "      <th>identity_hate</th>\n",
       "    </tr>\n",
       "  </thead>\n",
       "  <tbody>\n",
       "    <tr>\n",
       "      <th>0</th>\n",
       "      <td>00001cee341fdb12</td>\n",
       "      <td>0.186549</td>\n",
       "      <td>0.186549</td>\n",
       "      <td>0.186549</td>\n",
       "      <td>0.186549</td>\n",
       "      <td>0.186549</td>\n",
       "      <td>0.186549</td>\n",
       "    </tr>\n",
       "    <tr>\n",
       "      <th>1</th>\n",
       "      <td>0000247867823ef7</td>\n",
       "      <td>0.004539</td>\n",
       "      <td>0.004539</td>\n",
       "      <td>0.004539</td>\n",
       "      <td>0.004539</td>\n",
       "      <td>0.004539</td>\n",
       "      <td>0.004539</td>\n",
       "    </tr>\n",
       "    <tr>\n",
       "      <th>2</th>\n",
       "      <td>00013b17ad220c46</td>\n",
       "      <td>0.006202</td>\n",
       "      <td>0.006202</td>\n",
       "      <td>0.006202</td>\n",
       "      <td>0.006202</td>\n",
       "      <td>0.006202</td>\n",
       "      <td>0.006202</td>\n",
       "    </tr>\n",
       "    <tr>\n",
       "      <th>3</th>\n",
       "      <td>00017563c3f7919a</td>\n",
       "      <td>0.001547</td>\n",
       "      <td>0.001547</td>\n",
       "      <td>0.001547</td>\n",
       "      <td>0.001547</td>\n",
       "      <td>0.001547</td>\n",
       "      <td>0.001547</td>\n",
       "    </tr>\n",
       "    <tr>\n",
       "      <th>4</th>\n",
       "      <td>00017695ad8997eb</td>\n",
       "      <td>0.004021</td>\n",
       "      <td>0.004021</td>\n",
       "      <td>0.004021</td>\n",
       "      <td>0.004021</td>\n",
       "      <td>0.004021</td>\n",
       "      <td>0.004021</td>\n",
       "    </tr>\n",
       "  </tbody>\n",
       "</table>\n",
       "</div>"
      ],
      "text/plain": [
       "                 id     toxic  severe_toxic   obscene    threat    insult  \\\n",
       "0  00001cee341fdb12  0.186549      0.186549  0.186549  0.186549  0.186549   \n",
       "1  0000247867823ef7  0.004539      0.004539  0.004539  0.004539  0.004539   \n",
       "2  00013b17ad220c46  0.006202      0.006202  0.006202  0.006202  0.006202   \n",
       "3  00017563c3f7919a  0.001547      0.001547  0.001547  0.001547  0.001547   \n",
       "4  00017695ad8997eb  0.004021      0.004021  0.004021  0.004021  0.004021   \n",
       "\n",
       "   identity_hate  \n",
       "0       0.186549  \n",
       "1       0.004539  \n",
       "2       0.006202  \n",
       "3       0.001547  \n",
       "4       0.004021  "
      ]
     },
     "execution_count": 138,
     "metadata": {},
     "output_type": "execute_result"
    }
   ],
   "source": [
    "submissions_df.head()"
   ]
  },
  {
   "cell_type": "code",
   "execution_count": 139,
   "id": "e53f40c0-314c-4d72-9777-8c1855538301",
   "metadata": {},
   "outputs": [],
   "source": [
    "# write test probabilities to submission.csv\n",
    "submissions_df.to_csv('data/submission.csv', index=False)"
   ]
  },
  {
   "cell_type": "code",
   "execution_count": null,
   "id": "5294500c-75b6-4d55-9bcc-9a23f803b484",
   "metadata": {},
   "outputs": [],
   "source": [
    "'''\n",
    "# TODO: Classification Report Multi-Label\n",
    "# Classification report\n",
    "model_report = classification_report(y_test, y_pred)\n",
    "print(model_report)\n",
    "\n",
    "# TODO: Confusion Matrix Mult-Label\n",
    "# Confusion Matrix\n",
    "model_conf = confusion_matrix(y_test, y_pred)\n",
    "print(model_conf)\n",
    "'''\n",
    "pass"
   ]
  },
  {
   "cell_type": "code",
   "execution_count": null,
   "id": "8b818c7f-c97f-4501-baee-652798203949",
   "metadata": {},
   "outputs": [],
   "source": []
  }
 ],
 "metadata": {
  "kernelspec": {
   "display_name": "Python 3 (ipykernel)",
   "language": "python",
   "name": "python3"
  },
  "language_info": {
   "codemirror_mode": {
    "name": "ipython",
    "version": 3
   },
   "file_extension": ".py",
   "mimetype": "text/x-python",
   "name": "python",
   "nbconvert_exporter": "python",
   "pygments_lexer": "ipython3",
   "version": "3.9.4"
  }
 },
 "nbformat": 4,
 "nbformat_minor": 5
}
