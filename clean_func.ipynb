{
 "cells": [
  {
   "cell_type": "markdown",
   "id": "84ccb32d-7965-4a4e-9ab2-cd8b1947b07d",
   "metadata": {},
   "source": [
    "### Function to perform pre-processing:\n",
    " ##### clean noise\n",
    " ##### remove stopwords (stop_words=True or False)\n",
    " ##### stemming (stem_words=True or False)"
   ]
  },
  {
   "cell_type": "code",
   "execution_count": null,
   "id": "bc160dc3-a646-4a48-b9cc-546562eae480",
   "metadata": {
    "tags": []
   },
   "outputs": [],
   "source": [
    "# Text pre-processing and cleaning\n",
    "import re\n",
    "from nltk.corpus import stopwords\n",
    "# regex to remove all Non-Alpha Numeric and space\n",
    "special_character_removal=re.compile(r'[^a-z\\d ]',re.IGNORECASE)\n",
    "\n",
    "# regex to replace all numeric\n",
    "replace_numbers=re.compile(r'\\d+',re.IGNORECASE)\n",
    "# Function to clean the text, with the option to remove stopwords and steming\n",
    "def clean_text(text, stop_words=True, stem_words=False):\n",
    "    text = text.lower()\n",
    "    text = re.sub(r\"what's\", \"what is \", text)\n",
    "    text = re.sub(r\"\\'s\", \" \", text)\n",
    "    text = re.sub(r\"\\'ve\", \" have \", text)\n",
    "    text = re.sub(r\"can't\", \"cannot \", text)\n",
    "    text = re.sub(r\"n't\", \" not \", text)\n",
    "    text = re.sub(r\"i'm\", \"i am \", text)\n",
    "    text = re.sub(r\"i’m\", \"i am\", text)\n",
    "    text = re.sub(r\"\\'re\", \" are \", text)\n",
    "    text = re.sub(r\"\\'d\", \" would \", text)\n",
    "    text = re.sub(r\"\\'ll\", \" will \", text)\n",
    "    text = re.sub(r\",\", \" \", text)\n",
    "    text = re.sub(r\"\\.\", \" \", text)\n",
    "    text = re.sub(r\"'\", \" \", text)\n",
    "    text = re.sub(r\"\\s{2,}\", \" \", text)\n",
    "    text = replace_numbers.sub('', text)\n",
    "    text = str(text).replace(\"\\n\", \" \")\n",
    "    text = str(text).replace(\"   \", \" \")\n",
    "    text = special_character_removal.sub('',text)\n",
    "    #check for stopwords and remove\n",
    "    #split into list for processing\n",
    "    if stop_words: # stop_word read from file and stop_word dictionary read from file\n",
    "        text = text.split()\n",
    "        #check for stopwords and remove\n",
    "        text = [word for word in text if not word in set(stopwords.words('english'))]\n",
    "        #back to string\n",
    "        text = ' '.join(text)\n",
    "    \n",
    "    return text\n"
   ]
  },
  {
   "cell_type": "code",
   "execution_count": null,
   "id": "cf4befa5-297a-4a94-8b15-7b8c09b75d0f",
   "metadata": {},
   "outputs": [],
   "source": [
    "#Function to clean text comment column in dataframe. Returns dataframe with new column with cleaned text\n",
    "def clean_dataframe(df):\n",
    "    list_sentences = df[\"comment_text\"].values\n",
    "    df['clean_comments'] = pd.Series([clean_text(text) for text in list_sentences])\n",
    "    return df"
   ]
  }
 ],
 "metadata": {
  "kernelspec": {
   "display_name": "Python 3.9.4 64-bit ('3.9.4': pyenv)",
   "language": "python",
   "name": "python394jvsc74a57bd0c9812cabd5acb57b23fe21a6b99815cf4bc88aa56b6f43f785d2b5abfe99dadb"
  },
  "language_info": {
   "codemirror_mode": {
    "name": "ipython",
    "version": 3
   },
   "file_extension": ".py",
   "mimetype": "text/x-python",
   "name": "python",
   "nbconvert_exporter": "python",
   "pygments_lexer": "ipython3",
   "version": "3.9.4"
  }
 },
 "nbformat": 4,
 "nbformat_minor": 5
}
